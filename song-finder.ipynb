{
 "cells": [
  {
   "cell_type": "code",
   "execution_count": 160,
   "metadata": {
    "collapsed": true
   },
   "outputs": [],
   "source": [
    "%matplotlib inline\n",
    "from scipy.io import wavfile\n",
    "from scipy import signal\n",
    "import os\n",
    "import numpy as np\n",
    "import matplotlib.pyplot as plt\n",
    "from sklearn.decomposition import PCA\n",
    "from sklearn import preprocessing"
   ]
  },
  {
   "cell_type": "markdown",
   "metadata": {},
   "source": [
    "# Pre processing songs with Power Spectral Density"
   ]
  },
  {
   "cell_type": "code",
   "execution_count": 207,
   "metadata": {
    "collapsed": true
   },
   "outputs": [],
   "source": [
    "def processSong(path, generic=None, file=False):\n",
    "    fs, data = wavfile.read(path)\n",
    "    window = 2**16\n",
    "    sig = data[:,0]\n",
    "    window = min(window, len(sig))\n",
    "    \n",
    "    f, t, signal_freq = signal.spectrogram(sig, fs=fs, nperseg=window, nfft=window)\n",
    "    print(signal_freq.shape)\n",
    "    output = []\n",
    "    # Filtering\n",
    "    for i in range(signal_freq.shape[1]):\n",
    "        signal_chunk_freq = voiceFilter(signal_freq[:,i], fs, window)/window\n",
    "        if np.max(signal_chunk_freq) < 5:\n",
    "            continue\n",
    "        ## voice frequencies are active in this segment\n",
    "        output.append(signal_chunk_freq)\n",
    "    output = np.array(output)\n",
    "    if file == True:\n",
    "        np.save(\"mats/\" + generic, output)\n",
    "    else:\n",
    "        return output\n",
    "def voiceFilter(signal_freq, fs, window, minimum=85, maximum=1000):\n",
    "    min_bin = np.round(freqToBin(minimum, fs, window))\n",
    "    max_bin = np.round(freqToBin(maximum, fs, window))\n",
    "    return signal_freq[min_bin:max_bin]\n",
    "def binToFreq(bin_num, fs, window):\n",
    "    return fs/window * bin_num\n",
    "def freqToBin(freq, fs, window):\n",
    "    return freq / (fs/window)"
   ]
  },
  {
   "cell_type": "code",
   "execution_count": 208,
   "metadata": {
    "collapsed": false
   },
   "outputs": [
    {
     "name": "stdout",
     "output_type": "stream",
     "text": [
      "(32769, 172)\n",
      "(32769, 193)\n",
      "(32769, 150)\n",
      "(32769, 152)\n",
      "(32769, 194)\n",
      "(32769, 203)\n",
      "(32769, 186)\n",
      "(32769, 169)\n",
      "(32769, 227)\n",
      "(32769, 133)\n"
     ]
    }
   ],
   "source": [
    "directory = \"songs\"\n",
    "for filename in os.listdir(directory):\n",
    "    if filename.endswith(\".wav\"):\n",
    "        path = os.path.join(directory, filename)\n",
    "        processSong(path, generic=filename, file=True)"
   ]
  },
  {
   "cell_type": "code",
   "execution_count": 209,
   "metadata": {
    "collapsed": true
   },
   "outputs": [],
   "source": [
    "categories = [\"Beyonce\", \"Drake\", \"Coldplay\"]"
   ]
  },
  {
   "cell_type": "code",
   "execution_count": 210,
   "metadata": {
    "collapsed": false
   },
   "outputs": [],
   "source": [
    "directory = \"mats\"\n",
    "data = []\n",
    "labels = []\n",
    "for filename in os.listdir(directory):\n",
    "    if filename.endswith(\".npy\"):\n",
    "        path = os.path.join(directory, filename)\n",
    "        mat = np.load(path)\n",
    "        label = -1\n",
    "        for i in range(len(categories)):\n",
    "            category = categories[i]\n",
    "            if filename.startswith(category):\n",
    "                label = i           \n",
    "        for point in mat:\n",
    "            data.append(point)\n",
    "            labels.append(label)\n",
    "data = np.array(data)\n",
    "labels = np.array(labels)"
   ]
  },
  {
   "cell_type": "markdown",
   "metadata": {},
   "source": [
    "# PCA dimensionality reduction"
   ]
  },
  {
   "cell_type": "code",
   "execution_count": 211,
   "metadata": {
    "collapsed": false
   },
   "outputs": [
    {
     "name": "stdout",
     "output_type": "stream",
     "text": [
      "(1205, 1360)\n"
     ]
    }
   ],
   "source": [
    "print(data.shape)"
   ]
  },
  {
   "cell_type": "code",
   "execution_count": 212,
   "metadata": {
    "collapsed": false
   },
   "outputs": [],
   "source": [
    "pca = PCA(n_components=200)\n",
    "pca.fit(data)\n",
    "data = pca.transform(data)"
   ]
  },
  {
   "cell_type": "code",
   "execution_count": 213,
   "metadata": {
    "collapsed": false
   },
   "outputs": [
    {
     "name": "stdout",
     "output_type": "stream",
     "text": [
      "(1205, 200)\n"
     ]
    }
   ],
   "source": [
    "print(data.shape)"
   ]
  },
  {
   "cell_type": "markdown",
   "metadata": {},
   "source": [
    "# Decision Tree/Random Forest"
   ]
  },
  {
   "cell_type": "code",
   "execution_count": 214,
   "metadata": {
    "collapsed": false
   },
   "outputs": [],
   "source": [
    "random = np.arange(len(data))\n",
    "np.random.shuffle(random)\n",
    "training_data = data[random]\n",
    "training_labels = labels[random]\n",
    "\n",
    "flip = 0.8 * len(training_data)\n",
    "validation_data = training_data[flip:]\n",
    "validation_labels = training_labels[flip:]\n",
    "\n",
    "training_data = training_data[:flip]\n",
    "training_labels = training_labels[:flip]"
   ]
  },
  {
   "cell_type": "code",
   "execution_count": 215,
   "metadata": {
    "collapsed": true
   },
   "outputs": [],
   "source": [
    "from sklearn.ensemble import RandomForestClassifier, AdaBoostClassifier"
   ]
  },
  {
   "cell_type": "code",
   "execution_count": 216,
   "metadata": {
    "collapsed": false
   },
   "outputs": [
    {
     "data": {
      "text/plain": [
       "RandomForestClassifier(bootstrap=True, class_weight=None, criterion='gini',\n",
       "            max_depth=None, max_features='auto', max_leaf_nodes=None,\n",
       "            min_samples_leaf=1, min_samples_split=2,\n",
       "            min_weight_fraction_leaf=0.0, n_estimators=10, n_jobs=1,\n",
       "            oob_score=False, random_state=None, verbose=0,\n",
       "            warm_start=False)"
      ]
     },
     "execution_count": 216,
     "metadata": {},
     "output_type": "execute_result"
    }
   ],
   "source": [
    "clf = RandomForestClassifier()\n",
    "clf.fit(training_data, training_labels)"
   ]
  },
  {
   "cell_type": "markdown",
   "metadata": {},
   "source": [
    "# Test"
   ]
  },
  {
   "cell_type": "markdown",
   "metadata": {},
   "source": [
    "## Validation data"
   ]
  },
  {
   "cell_type": "code",
   "execution_count": 217,
   "metadata": {
    "collapsed": false
   },
   "outputs": [
    {
     "name": "stdout",
     "output_type": "stream",
     "text": [
      "0.8796680497925311\n"
     ]
    }
   ],
   "source": [
    "predicted_labels = clf.predict(validation_data)\n",
    "correct = 0\n",
    "for real, predicted in zip(validation_labels, predicted_labels):\n",
    "    if real == predicted:\n",
    "        correct += 1\n",
    "print(correct/len(predicted_labels))"
   ]
  },
  {
   "cell_type": "markdown",
   "metadata": {},
   "source": [
    "## Entire songs"
   ]
  },
  {
   "cell_type": "code",
   "execution_count": 218,
   "metadata": {
    "collapsed": true
   },
   "outputs": [],
   "source": [
    "from collections import defaultdict"
   ]
  },
  {
   "cell_type": "code",
   "execution_count": 219,
   "metadata": {
    "collapsed": false
   },
   "outputs": [],
   "source": [
    "def predict(song, pca, clf):\n",
    "    song = processSong(song)\n",
    "    song_data = pca.transform(song)\n",
    "    predictions = clf.predict(song_data)\n",
    "    print(predictions)\n",
    "    counts = defaultdict(int)\n",
    "    for prediction in predictions:\n",
    "        counts[categories[prediction]] += 1\n",
    "    return counts"
   ]
  },
  {
   "cell_type": "markdown",
   "metadata": {},
   "source": [
    "Drake - Hold on, we're going home"
   ]
  },
  {
   "cell_type": "code",
   "execution_count": 220,
   "metadata": {
    "collapsed": false
   },
   "outputs": [
    {
     "name": "stdout",
     "output_type": "stream",
     "text": [
      "(32769, 174)\n",
      "[0 0 0 0 0 0 0 0 0 0 0 0 0 0 0 0 0 0 0 0 0 0 0 0 0 0 0 0 0 0 0 0 0 0 0 0 0\n",
      " 2 0 0 0 0 0 0 0 0 0 0 0 2 0 0 0 0 0 0 0 0 0 0 0 0 0 0 0 0 0 0 0 0 0 0 0 0\n",
      " 0 0 0 0 0 0 0 0 0 0 0 0 0 0 0 0 0 0 0 1 2 0 0 0 0 0 0 0 0 0 0 0 0 0 0 0 0\n",
      " 0 0 0 0 0 0 0 0 0 0 0 0 0 0 0 0 0 0 0 0 0 0 0 0 0 0 0 0 2 0 0 0 0 0 2 0 0\n",
      " 0 0 0 0 0 0 0 0 0]\n",
      "defaultdict(<class 'int'>, {'Coldplay': 5, 'Beyonce': 151, 'Drake': 1})\n"
     ]
    }
   ],
   "source": [
    "drake = predict(\"test/drake-hold-on-we27re-going-home.wav\", pca, clf)\n",
    "print(drake)"
   ]
  },
  {
   "cell_type": "code",
   "execution_count": 221,
   "metadata": {
    "collapsed": false
   },
   "outputs": [
    {
     "name": "stdout",
     "output_type": "stream",
     "text": [
      "(32769, 150)\n",
      "[0 1 0 1 0 2 2 2 0 2 0 2 2 0 0 0 0 0 1 0 0 0 0 0 0 0 0 0 0 2 0 2 0 2 0 0 0\n",
      " 2 0 2 0 2 0 2 0 2 2 2 0 2 0 2 2 0 0 2 0 2 2 2 2 2 0 2 0 0 0 2 0 2 2 2 0 0\n",
      " 2 0 0 2 2 2 0 0 2 0 0 0 2 2 2 2 0 2 0 2 0 2 0 2 0 2 0 2 2 0 2 0 2 0 0 0 0\n",
      " 0 0 0 0 0 0 0 0 0 2 2 0 2 0 2 1 2 0 2 1 0]\n",
      "defaultdict(<class 'int'>, {'Coldplay': 54, 'Beyonce': 73, 'Drake': 5})\n"
     ]
    }
   ],
   "source": [
    "beyonce = predict(\"test/beyonce-partition.wav\", pca, clf)\n",
    "print(beyonce)"
   ]
  },
  {
   "cell_type": "code",
   "execution_count": 222,
   "metadata": {
    "collapsed": false
   },
   "outputs": [
    {
     "name": "stdout",
     "output_type": "stream",
     "text": [
      "(32769, 237)\n",
      "[2 2 2 2 2 2 2 2 2 2 2 2 2 2 2 2 2 2 2 2 2 2 2 2 2 2 2 2 2 2 2 2 2 2 2 2 2\n",
      " 2 2 2 2 2 2 2 2 2 2 2 2 2 2 2 2 2 2 2 2 2 2 2 2 2 0 2 2 2 2 2 2 2 2 2 0 2\n",
      " 2 2 2 2 2 2 2 2 2 2 2 2 2 2 2 2 2 2 2 2 2 2 2 2 2 2 2 2 2 2 2 2 2 2 2 2 0\n",
      " 1 2 2 1 2 2 2 2 2 2 2 2 2 2 0 2 2 2 1 2 2 2 2 2 0 2 0 2 2 1 2 2 2 2 0 2 2\n",
      " 0 2 2 2 2 2 1 2 2 2 2 2 2 2 2 2 2 0 2 0 0 2 0 2 2 2 2 1 2 2 2 2 2 2 2 2 2\n",
      " 2 2 0 2 2 2 2 2 2 2 0 2 2 0 2 2 2 2 2 2 0 2 2 2 2 2 0 2 2 2 1 2 1 2 2 2 0\n",
      " 2 2 2 1 2 2 2 2 2]\n",
      "defaultdict(<class 'int'>, {'Coldplay': 204, 'Beyonce': 18, 'Drake': 9})\n"
     ]
    }
   ],
   "source": [
    "coldplay = predict(\"test/Coldplay_-_The_Scientist.wav\", pca, clf)\n",
    "print(coldplay)"
   ]
  },
  {
   "cell_type": "code",
   "execution_count": null,
   "metadata": {
    "collapsed": true
   },
   "outputs": [],
   "source": []
  }
 ],
 "metadata": {
  "kernelspec": {
   "display_name": "Python 3",
   "language": "python",
   "name": "python3"
  },
  "language_info": {
   "codemirror_mode": {
    "name": "ipython",
    "version": 3
   },
   "file_extension": ".py",
   "mimetype": "text/x-python",
   "name": "python",
   "nbconvert_exporter": "python",
   "pygments_lexer": "ipython3",
   "version": "3.4.5"
  }
 },
 "nbformat": 4,
 "nbformat_minor": 0
}
