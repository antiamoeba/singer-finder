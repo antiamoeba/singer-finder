{
 "cells": [
  {
   "cell_type": "code",
   "execution_count": 90,
   "metadata": {
    "collapsed": true
   },
   "outputs": [],
   "source": [
    "%matplotlib inline\n",
    "from scipy.io import wavfile\n",
    "from scipy import signal\n",
    "import os\n",
    "import numpy as np\n",
    "import matplotlib.pyplot as plt\n",
    "from sklearn.decomposition import PCA\n",
    "from sklearn import preprocessing"
   ]
  },
  {
   "cell_type": "markdown",
   "metadata": {},
   "source": [
    "# Pre processing songs with Power Spectral Density"
   ]
  },
  {
   "cell_type": "code",
   "execution_count": 91,
   "metadata": {
    "collapsed": true
   },
   "outputs": [],
   "source": [
    "def processSong(path, generic=None, file=False):\n",
    "    fs, data = wavfile.read(path)\n",
    "    window = 2**16\n",
    "    sig = data[:,0]\n",
    "    window = min(window, len(sig))\n",
    "    \n",
    "    f, t, signal_freq = signal.spectrogram(sig, fs=fs, nperseg=window, nfft=window)\n",
    "    print(signal_freq.shape)\n",
    "    output = []\n",
    "    # Filtering\n",
    "    for i in range(signal_freq.shape[1]):\n",
    "        signal_chunk_freq = signal_freq[:,i]\n",
    "        signal_chunk_freq = voiceFilter(signal_chunk_freq, fs, window)/window\n",
    "        if np.max(signal_chunk_freq) < 10:\n",
    "            continue\n",
    "        ## voice frequencies are active in this segment\n",
    "        output.append(signal_chunk_freq)\n",
    "    output = np.array(output)\n",
    "    if file == True:\n",
    "        np.save(\"mats/\" + generic, output)\n",
    "    else:\n",
    "        return output\n",
    "def voiceFilter(signal_freq, fs, window, minimum=50, maximum=1000):\n",
    "    min_bin = np.round(freqToBin(minimum, fs, window))\n",
    "    max_bin = np.round(freqToBin(maximum, fs, window))\n",
    "    return signal_freq[min_bin:max_bin]\n",
    "def binToFreq(bin_num, fs, window):\n",
    "    return fs/window * bin_num\n",
    "def freqToBin(freq, fs, window):\n",
    "    return freq / (fs/window)"
   ]
  },
  {
   "cell_type": "code",
   "execution_count": 92,
   "metadata": {
    "collapsed": false
   },
   "outputs": [
    {
     "name": "stdout",
     "output_type": "stream",
     "text": [
      "(32769, 172)\n",
      "(32769, 193)\n",
      "(32769, 150)\n",
      "(32769, 152)\n",
      "(32769, 194)\n",
      "(32769, 203)\n",
      "(32769, 186)\n",
      "(32769, 169)\n",
      "(32769, 227)\n",
      "(32769, 133)\n"
     ]
    },
    {
     "name": "stderr",
     "output_type": "stream",
     "text": [
      "/Users/antiamoeba/anaconda3/lib/python3.4/site-packages/IPython/kernel/__main__.py:26: VisibleDeprecationWarning: using a non-integer number instead of an integer will result in an error in the future\n"
     ]
    }
   ],
   "source": [
    "directory = \"songs\"\n",
    "for filename in os.listdir(directory):\n",
    "    if filename.endswith(\".wav\"):\n",
    "        path = os.path.join(directory, filename)\n",
    "        processSong(path, generic=filename, file=True)"
   ]
  },
  {
   "cell_type": "code",
   "execution_count": 93,
   "metadata": {
    "collapsed": true
   },
   "outputs": [],
   "source": [
    "categories = [\"Beyonce\", \"Drake\", \"Coldplay\"]"
   ]
  },
  {
   "cell_type": "code",
   "execution_count": 94,
   "metadata": {
    "collapsed": false
   },
   "outputs": [],
   "source": [
    "directory = \"mats\"\n",
    "data = []\n",
    "labels = []\n",
    "for filename in os.listdir(directory):\n",
    "    if filename.endswith(\".npy\"):\n",
    "        path = os.path.join(directory, filename)\n",
    "        mat = np.load(path)\n",
    "        label = -1\n",
    "        for i in range(len(categories)):\n",
    "            category = categories[i]\n",
    "            if filename.startswith(category):\n",
    "                label = i           \n",
    "        for point in mat:\n",
    "            data.append(point)\n",
    "            labels.append(label)\n",
    "data = np.array(data)\n",
    "labels = np.array(labels)"
   ]
  },
  {
   "cell_type": "markdown",
   "metadata": {},
   "source": [
    "# PCA dimensionality reduction"
   ]
  },
  {
   "cell_type": "code",
   "execution_count": 95,
   "metadata": {
    "collapsed": false
   },
   "outputs": [
    {
     "name": "stdout",
     "output_type": "stream",
     "text": [
      "(1187, 1412)\n"
     ]
    }
   ],
   "source": [
    "print(data.shape)"
   ]
  },
  {
   "cell_type": "code",
   "execution_count": 96,
   "metadata": {
    "collapsed": false
   },
   "outputs": [],
   "source": [
    "data = preprocessing.scale(data)\n",
    "pca = PCA(n_components=200)\n",
    "pca.fit(data)\n",
    "data = pca.transform(data)"
   ]
  },
  {
   "cell_type": "code",
   "execution_count": 97,
   "metadata": {
    "collapsed": false
   },
   "outputs": [
    {
     "name": "stdout",
     "output_type": "stream",
     "text": [
      "(1187, 200)\n"
     ]
    }
   ],
   "source": [
    "print(data.shape)"
   ]
  },
  {
   "cell_type": "markdown",
   "metadata": {},
   "source": [
    "# Decision Tree/Random Forest/Adaboost"
   ]
  },
  {
   "cell_type": "code",
   "execution_count": 98,
   "metadata": {
    "collapsed": false
   },
   "outputs": [
    {
     "name": "stderr",
     "output_type": "stream",
     "text": [
      "/Users/antiamoeba/anaconda3/lib/python3.4/site-packages/IPython/kernel/__main__.py:7: VisibleDeprecationWarning: using a non-integer number instead of an integer will result in an error in the future\n",
      "/Users/antiamoeba/anaconda3/lib/python3.4/site-packages/IPython/kernel/__main__.py:8: VisibleDeprecationWarning: using a non-integer number instead of an integer will result in an error in the future\n",
      "/Users/antiamoeba/anaconda3/lib/python3.4/site-packages/IPython/kernel/__main__.py:10: VisibleDeprecationWarning: using a non-integer number instead of an integer will result in an error in the future\n",
      "/Users/antiamoeba/anaconda3/lib/python3.4/site-packages/IPython/kernel/__main__.py:11: VisibleDeprecationWarning: using a non-integer number instead of an integer will result in an error in the future\n"
     ]
    }
   ],
   "source": [
    "random = np.arange(len(data))\n",
    "np.random.shuffle(random)\n",
    "training_data = data[random]\n",
    "training_labels = labels[random]\n",
    "\n",
    "flip = 0.8 * len(training_data)\n",
    "validation_data = training_data[flip:]\n",
    "validation_labels = training_labels[flip:]\n",
    "\n",
    "training_data = training_data[:flip]\n",
    "training_labels = training_labels[:flip]"
   ]
  },
  {
   "cell_type": "code",
   "execution_count": 99,
   "metadata": {
    "collapsed": false
   },
   "outputs": [],
   "source": [
    "from sklearn.ensemble import RandomForestClassifier, AdaBoostClassifier\n",
    "from sklearn.neural_network import MLPClassifier\n",
    "from sklearn.neighbors import KNeighborsClassifier"
   ]
  },
  {
   "cell_type": "code",
   "execution_count": 100,
   "metadata": {
    "collapsed": false
   },
   "outputs": [
    {
     "data": {
      "text/plain": [
       "MLPClassifier(activation='relu', alpha=0.001, batch_size='auto', beta_1=0.9,\n",
       "       beta_2=0.999, early_stopping=False, epsilon=1e-08,\n",
       "       hidden_layer_sizes=(400, 200), learning_rate='constant',\n",
       "       learning_rate_init=0.001, max_iter=200, momentum=0.9,\n",
       "       nesterovs_momentum=True, power_t=0.5, random_state=None,\n",
       "       shuffle=True, solver='adam', tol=0.0001, validation_fraction=0.1,\n",
       "       verbose=False, warm_start=False)"
      ]
     },
     "execution_count": 100,
     "metadata": {},
     "output_type": "execute_result"
    }
   ],
   "source": [
    "clf = MLPClassifier(hidden_layer_sizes=(400,200), alpha=0.001)\n",
    "clf.fit(training_data, training_labels)"
   ]
  },
  {
   "cell_type": "markdown",
   "metadata": {},
   "source": [
    "# Test"
   ]
  },
  {
   "cell_type": "markdown",
   "metadata": {},
   "source": [
    "## Validation data"
   ]
  },
  {
   "cell_type": "code",
   "execution_count": 101,
   "metadata": {
    "collapsed": false
   },
   "outputs": [
    {
     "name": "stdout",
     "output_type": "stream",
     "text": [
      "0.9705882352941176\n"
     ]
    }
   ],
   "source": [
    "predicted_labels = clf.predict(validation_data)\n",
    "correct = 0\n",
    "for real, predicted in zip(validation_labels, predicted_labels):\n",
    "    if np.array_equal(real, predicted):\n",
    "        correct += 1\n",
    "print(correct/len(predicted_labels))"
   ]
  },
  {
   "cell_type": "markdown",
   "metadata": {},
   "source": [
    "## Entire songs"
   ]
  },
  {
   "cell_type": "code",
   "execution_count": 102,
   "metadata": {
    "collapsed": true
   },
   "outputs": [],
   "source": [
    "from collections import defaultdict"
   ]
  },
  {
   "cell_type": "code",
   "execution_count": 103,
   "metadata": {
    "collapsed": false
   },
   "outputs": [],
   "source": [
    "def predict(song, pca, clf):\n",
    "    song = processSong(song)\n",
    "    song_data = pca.transform(song)\n",
    "    predictions = clf.predict(song_data)\n",
    "    print(predictions)\n",
    "    counts = defaultdict(int)\n",
    "    for prediction in predictions:\n",
    "        counts[categories[prediction]] += 1\n",
    "    return counts"
   ]
  },
  {
   "cell_type": "markdown",
   "metadata": {},
   "source": [
    "Drake - Hold on, we're going home"
   ]
  },
  {
   "cell_type": "code",
   "execution_count": 104,
   "metadata": {
    "collapsed": false
   },
   "outputs": [
    {
     "name": "stdout",
     "output_type": "stream",
     "text": [
      "(32769, 174)\n",
      "[1 1 1 1 1 1 1 1 1 1 1 1 1 0 1 2 2 2 1 1 1 1 1 1 1 1 2 1 0 1 2 2 2 1 1 1 1\n",
      " 1 1 1 1 2 1 0 1 1 1 1 1 1 1 1 1 1 1 2 2 1 1 2 2 2 1 1 1 1 1 1 1 1 2 1 0 1\n",
      " 2 2 2 1 1 1 1 1 1 1 1 2 1 0 1 2 2 2 1 1 0 1 1 1 1 1 2 1 1 1 2 2 2 1 1 0 0\n",
      " 1 1 1 1 2 0 1 2 2 0 1 1 1 0 1 1 1 1 0 1 0 1 2 2 2 1 1 1 0 0 2 1 1 2 0 0 2\n",
      " 2 2 2 1 1 1 1 1 1 1 1 2 1 1 1]\n",
      "defaultdict(<class 'int'>, {'Drake': 108, 'Coldplay': 38, 'Beyonce': 17})\n"
     ]
    },
    {
     "name": "stderr",
     "output_type": "stream",
     "text": [
      "/Users/antiamoeba/anaconda3/lib/python3.4/site-packages/IPython/kernel/__main__.py:26: VisibleDeprecationWarning: using a non-integer number instead of an integer will result in an error in the future\n"
     ]
    }
   ],
   "source": [
    "drake = predict(\"test/drake-hold-on-we27re-going-home.wav\", pca, clf)\n",
    "print(drake)"
   ]
  },
  {
   "cell_type": "code",
   "execution_count": 105,
   "metadata": {
    "collapsed": false
   },
   "outputs": [
    {
     "name": "stdout",
     "output_type": "stream",
     "text": [
      "(32769, 150)\n",
      "[0 2 2 2 2 2 0 2 0 2 0 2 2 0 0 2 0 1 1 1 1 1 1 1 1 1 0 0 0 0 1 0 1 0 0 0 0\n",
      " 0 0 0 0 0 0 0 0 0 0 0 0 0 0 0 0 0 0 0 0 0 0 0 0 0 0 0 0 1 1 1 1 0 2 0 2 1\n",
      " 1 1 1 0 0 0 2 0 0 0 0 0 0 0 0 0 1 0 1 0 1 0 1 0 0 0 0 0 0 0 0 1 1 1 1 1 2\n",
      " 1 1 1 1 2 0 2 0 1 0 1 0 1 0 1 0]\n",
      "defaultdict(<class 'int'>, {'Drake': 36, 'Coldplay': 16, 'Beyonce': 75})\n"
     ]
    },
    {
     "name": "stderr",
     "output_type": "stream",
     "text": [
      "/Users/antiamoeba/anaconda3/lib/python3.4/site-packages/IPython/kernel/__main__.py:26: VisibleDeprecationWarning: using a non-integer number instead of an integer will result in an error in the future\n"
     ]
    }
   ],
   "source": [
    "beyonce = predict(\"test/beyonce-partition.wav\", pca, clf)\n",
    "print(beyonce)"
   ]
  },
  {
   "cell_type": "code",
   "execution_count": 106,
   "metadata": {
    "collapsed": false
   },
   "outputs": [
    {
     "name": "stdout",
     "output_type": "stream",
     "text": [
      "(32769, 206)\n",
      "[0 2 2 2 0 2 1 0 2 0 1 2 2 2 2 0 1 0 1 1 0 2 2 1 2 2 2 2 2 0 2 2 0 0 0 0 1\n",
      " 2 0 2 2 2 0 2 2 0 0 0 0 2 2 0 2 2 2 2 0 2 0 0 0 0 0 0 1 1 0 2 0 2 2 2 2 2\n",
      " 2 0 2 2 2 0 0 0 2 2 0 2 2 2 0 2 2 2 0 1 0 1 2 2 0 2 2 2 1 2 2 2 0 2 0 0 0\n",
      " 0 0 0 2 0 0 2 2 2 2 0 0 0 0 0 1 1 1 0 2 2 0 2 0 2 2 2 0 2 2 2 2 0 1 0 2 2\n",
      " 2 2 1 2 2 2 2 2 1 1 1 0 0 1 2 2 2 2 1 0 2 0 2 2 2 0 0 0 0 0 1 2 0 2 2 2 2\n",
      " 2 1 0 0 1 2 2 2 2 0 0 2 2 2 0]\n",
      "defaultdict(<class 'int'>, {'Drake': 25, 'Coldplay': 103, 'Beyonce': 72})\n"
     ]
    },
    {
     "name": "stderr",
     "output_type": "stream",
     "text": [
      "/Users/antiamoeba/anaconda3/lib/python3.4/site-packages/IPython/kernel/__main__.py:26: VisibleDeprecationWarning: using a non-integer number instead of an integer will result in an error in the future\n"
     ]
    }
   ],
   "source": [
    "coldplay = predict(\"test/coldplay-yellow.wav\", pca, clf)\n",
    "print(coldplay)"
   ]
  },
  {
   "cell_type": "code",
   "execution_count": null,
   "metadata": {
    "collapsed": true
   },
   "outputs": [],
   "source": []
  }
 ],
 "metadata": {
  "kernelspec": {
   "display_name": "Python 3",
   "language": "python",
   "name": "python3"
  },
  "language_info": {
   "codemirror_mode": {
    "name": "ipython",
    "version": 3
   },
   "file_extension": ".py",
   "mimetype": "text/x-python",
   "name": "python",
   "nbconvert_exporter": "python",
   "pygments_lexer": "ipython3",
   "version": "3.4.5"
  }
 },
 "nbformat": 4,
 "nbformat_minor": 0
}
