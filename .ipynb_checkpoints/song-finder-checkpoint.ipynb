{
 "cells": [
  {
   "cell_type": "code",
   "execution_count": 90,
   "metadata": {
    "collapsed": true
   },
   "outputs": [],
   "source": [
    "%matplotlib inline\n",
    "from scipy.io import wavfile\n",
    "from scipy import signal\n",
    "import os\n",
    "import numpy as np\n",
    "import matplotlib.pyplot as plt\n",
    "from sklearn.decomposition import PCA\n",
    "from sklearn import preprocessing"
   ]
  },
  {
   "cell_type": "markdown",
   "metadata": {},
   "source": [
    "# Pre processing songs with Power Spectral Density"
   ]
  },
  {
   "cell_type": "code",
   "execution_count": 279,
   "metadata": {
    "collapsed": false
   },
   "outputs": [],
   "source": [
    "def processSong(path, generic=None, file=False, limit=True):\n",
    "    fs, data = wavfile.read(path)\n",
    "    window = 2**16\n",
    "    sig = data[:,0]\n",
    "    window = min(window, len(sig))\n",
    "    \n",
    "    f, t, signal_freq = signal.spectrogram(sig, fs=fs, nperseg=window, nfft=window)\n",
    "    output = []\n",
    "    # Filtering\n",
    "    for i in range(signal_freq.shape[1]):\n",
    "        signal_chunk_freq = signal_freq[:,i]\n",
    "        signal_chunk_freq = voiceFilter(signal_chunk_freq, fs, window)/window\n",
    "        if np.max(signal_chunk_freq) < 10 and limit == True:\n",
    "            continue\n",
    "        ## voice frequencies are active in this segment\n",
    "        output.append(signal_chunk_freq)\n",
    "    output = np.array(output)\n",
    "    if file == True:\n",
    "        np.save(\"mats/\" + generic, output)\n",
    "    else:\n",
    "        return output\n",
    "def voiceFilter(signal_freq, fs, window, minimum=50, maximum=1000):\n",
    "    min_bin = np.round(freqToBin(minimum, fs, window))\n",
    "    max_bin = np.round(freqToBin(maximum, fs, window))\n",
    "    return signal_freq[min_bin:max_bin]\n",
    "def binToFreq(bin_num, fs, window):\n",
    "    return fs/window * bin_num\n",
    "def freqToBin(freq, fs, window):\n",
    "    return freq / (fs/window)"
   ]
  },
  {
   "cell_type": "code",
   "execution_count": 224,
   "metadata": {
    "collapsed": false
   },
   "outputs": [
    {
     "name": "stderr",
     "output_type": "stream",
     "text": [
      "/Users/antiamoeba/anaconda3/lib/python3.4/site-packages/IPython/kernel/__main__.py:25: VisibleDeprecationWarning: using a non-integer number instead of an integer will result in an error in the future\n"
     ]
    }
   ],
   "source": [
    "directory = \"songs\"\n",
    "for filename in os.listdir(directory):\n",
    "    if filename.endswith(\".wav\"):\n",
    "        path = os.path.join(directory, filename)\n",
    "        processSong(path, generic=filename, file=True)"
   ]
  },
  {
   "cell_type": "code",
   "execution_count": 225,
   "metadata": {
    "collapsed": true
   },
   "outputs": [],
   "source": [
    "categories = [\"Beyonce\", \"Drake\", \"Coldplay\"]"
   ]
  },
  {
   "cell_type": "code",
   "execution_count": 334,
   "metadata": {
    "collapsed": false
   },
   "outputs": [],
   "source": [
    "directory = \"mats\"\n",
    "data = []\n",
    "labels = []\n",
    "for filename in os.listdir(directory):\n",
    "    if filename.endswith(\".npy\"):\n",
    "        path = os.path.join(directory, filename)\n",
    "        mat = np.load(path)\n",
    "        label = -1\n",
    "        for i in range(len(categories)):\n",
    "            category = categories[i]\n",
    "            if filename.startswith(category):\n",
    "                label = i           \n",
    "        for point in mat:\n",
    "            data.append(point)\n",
    "            labels.append(label)\n",
    "data = np.array(data)\n",
    "labels = np.array(labels)"
   ]
  },
  {
   "cell_type": "markdown",
   "metadata": {},
   "source": [
    "# PCA dimensionality reduction"
   ]
  },
  {
   "cell_type": "code",
   "execution_count": 335,
   "metadata": {
    "collapsed": false
   },
   "outputs": [
    {
     "name": "stdout",
     "output_type": "stream",
     "text": [
      "(1187, 1412)\n"
     ]
    }
   ],
   "source": [
    "print(data.shape)"
   ]
  },
  {
   "cell_type": "code",
   "execution_count": 336,
   "metadata": {
    "collapsed": false
   },
   "outputs": [],
   "source": [
    "data = preprocessing.normalize(data)\n",
    "pca = PCA(n_components=200)\n",
    "pca.fit(data)\n",
    "data = pca.transform(data)\n",
    "scaler = preprocessing.StandardScaler().fit(data)\n",
    "data = scaler.transform(data)"
   ]
  },
  {
   "cell_type": "code",
   "execution_count": 337,
   "metadata": {
    "collapsed": false
   },
   "outputs": [
    {
     "name": "stdout",
     "output_type": "stream",
     "text": [
      "(1187, 200)\n"
     ]
    }
   ],
   "source": [
    "print(data.shape)"
   ]
  },
  {
   "cell_type": "markdown",
   "metadata": {},
   "source": [
    "# Decision Tree/Random Forest/Adaboost"
   ]
  },
  {
   "cell_type": "code",
   "execution_count": 338,
   "metadata": {
    "collapsed": false
   },
   "outputs": [
    {
     "name": "stderr",
     "output_type": "stream",
     "text": [
      "/Users/antiamoeba/anaconda3/lib/python3.4/site-packages/IPython/kernel/__main__.py:7: VisibleDeprecationWarning: using a non-integer number instead of an integer will result in an error in the future\n",
      "/Users/antiamoeba/anaconda3/lib/python3.4/site-packages/IPython/kernel/__main__.py:8: VisibleDeprecationWarning: using a non-integer number instead of an integer will result in an error in the future\n",
      "/Users/antiamoeba/anaconda3/lib/python3.4/site-packages/IPython/kernel/__main__.py:10: VisibleDeprecationWarning: using a non-integer number instead of an integer will result in an error in the future\n",
      "/Users/antiamoeba/anaconda3/lib/python3.4/site-packages/IPython/kernel/__main__.py:11: VisibleDeprecationWarning: using a non-integer number instead of an integer will result in an error in the future\n"
     ]
    }
   ],
   "source": [
    "random = np.arange(len(data))\n",
    "np.random.shuffle(random)\n",
    "training_data = data[random]\n",
    "training_labels = labels[random]\n",
    "\n",
    "flip = 0.8 * len(training_data)\n",
    "validation_data = training_data[flip:]\n",
    "validation_labels = training_labels[flip:]\n",
    "\n",
    "training_data = training_data[:flip]\n",
    "training_labels = training_labels[:flip]"
   ]
  },
  {
   "cell_type": "code",
   "execution_count": 339,
   "metadata": {
    "collapsed": false
   },
   "outputs": [],
   "source": [
    "from sklearn.ensemble import RandomForestClassifier, AdaBoostClassifier\n",
    "from sklearn.neural_network import MLPClassifier\n",
    "from sklearn.neighbors import KNeighborsClassifier"
   ]
  },
  {
   "cell_type": "code",
   "execution_count": 340,
   "metadata": {
    "collapsed": false
   },
   "outputs": [
    {
     "data": {
      "text/plain": [
       "MLPClassifier(activation='relu', alpha=0.001, batch_size='auto', beta_1=0.9,\n",
       "       beta_2=0.999, early_stopping=False, epsilon=1e-08,\n",
       "       hidden_layer_sizes=(400, 200), learning_rate='constant',\n",
       "       learning_rate_init=0.001, max_iter=200, momentum=0.9,\n",
       "       nesterovs_momentum=True, power_t=0.5, random_state=None,\n",
       "       shuffle=True, solver='adam', tol=0.0001, validation_fraction=0.1,\n",
       "       verbose=False, warm_start=False)"
      ]
     },
     "execution_count": 340,
     "metadata": {},
     "output_type": "execute_result"
    }
   ],
   "source": [
    "clf = MLPClassifier(hidden_layer_sizes=(400,200), alpha=0.001)\n",
    "clf.fit(training_data, training_labels)"
   ]
  },
  {
   "cell_type": "markdown",
   "metadata": {},
   "source": [
    "# Test"
   ]
  },
  {
   "cell_type": "markdown",
   "metadata": {},
   "source": [
    "## Validation data"
   ]
  },
  {
   "cell_type": "code",
   "execution_count": 341,
   "metadata": {
    "collapsed": false
   },
   "outputs": [
    {
     "name": "stdout",
     "output_type": "stream",
     "text": [
      "0.9201680672268907\n"
     ]
    }
   ],
   "source": [
    "predicted_labels = clf.predict(validation_data)\n",
    "correct = 0\n",
    "for real, predicted in zip(validation_labels, predicted_labels):\n",
    "    if np.array_equal(real, predicted):\n",
    "        correct += 1\n",
    "print(correct/len(predicted_labels))"
   ]
  },
  {
   "cell_type": "markdown",
   "metadata": {},
   "source": [
    "## Entire songs"
   ]
  },
  {
   "cell_type": "code",
   "execution_count": 342,
   "metadata": {
    "collapsed": true
   },
   "outputs": [],
   "source": [
    "from collections import defaultdict"
   ]
  },
  {
   "cell_type": "code",
   "execution_count": 345,
   "metadata": {
    "collapsed": false
   },
   "outputs": [],
   "source": [
    "def predict(song, pca, clf, cats, scaler, limit=True):\n",
    "    song = processSong(song, limit)\n",
    "    song = preprocessing.normalize(song)\n",
    "    song_data = pca.transform(song)\n",
    "    song_data = scaler.transform(song_data)\n",
    "    predictions = clf.predict(song_data)\n",
    "    print(predictions)\n",
    "    counts = defaultdict(int)\n",
    "    for prediction in predictions:\n",
    "        counts[cats[prediction]] += 1\n",
    "    return counts"
   ]
  },
  {
   "cell_type": "markdown",
   "metadata": {},
   "source": [
    "Drake - Hold on, we're going home"
   ]
  },
  {
   "cell_type": "code",
   "execution_count": 346,
   "metadata": {
    "collapsed": false
   },
   "outputs": [
    {
     "name": "stdout",
     "output_type": "stream",
     "text": [
      "[1 1 1 1 1 1 1 1 1 1 1 1 1 0 0 1 1 1 1 1 1 1 1 1 0 2 0 1 0 1 1 1 1 1 1 0 1\n",
      " 1 1 1 1 0 1 0 0 1 1 0 1 1 1 0 0 0 1 2 2 1 1 0 1 1 1 1 1 0 1 1 1 1 1 1 0 1\n",
      " 1 1 1 1 1 1 1 1 1 1 2 2 1 0 1 0 0 0 0 0 0 0 1 0 1 1 2 0 1 0 0 2 0 1 1 0 0\n",
      " 1 0 0 2 2 0 0 0 0 0 1 1 1 0 0 0 0 1 2 0 0 0 0 0 0 1 1 0 0 0 0 0 0 0 0 0 2\n",
      " 1 1 1 1 1 0 1 1 1 1 2 0 1 0 1]\n",
      "defaultdict(<class 'int'>, {'Drake': 91, 'Coldplay': 12, 'Beyonce': 60})\n"
     ]
    },
    {
     "name": "stderr",
     "output_type": "stream",
     "text": [
      "/Users/antiamoeba/anaconda3/lib/python3.4/site-packages/IPython/kernel/__main__.py:25: VisibleDeprecationWarning: using a non-integer number instead of an integer will result in an error in the future\n"
     ]
    }
   ],
   "source": [
    "drake = predict(\"test/drake-hold-on-we27re-going-home.wav\", pca, clf, categories, scaler)\n",
    "print(drake)"
   ]
  },
  {
   "cell_type": "code",
   "execution_count": 347,
   "metadata": {
    "collapsed": false
   },
   "outputs": [
    {
     "name": "stdout",
     "output_type": "stream",
     "text": [
      "[0 0 0 0 0 0 0 0 0 1 0 2 0 1 0 2 0 1 0 0 0 1 0 2 0 0 0 0 0 0 0 0 0 0 0 0 0\n",
      " 0 0 0 0 0 0 2 0 0 0 2 0 0 0 2 0 2 0 2 0 2 0 0 0 0 0 0 0 1 1 1 1 0 0 0 0 1\n",
      " 1 1 0 0 0 0 0 0 0 2 0 2 0 2 0 0 1 0 1 0 1 0 1 2 0 2 0 2 0 2 0 1 1 1 1 1 1\n",
      " 1 1 1 1 0 0 0 0 1 1 1 0 1 0 1 1]\n",
      "defaultdict(<class 'int'>, {'Drake': 31, 'Coldplay': 16, 'Beyonce': 80})\n"
     ]
    },
    {
     "name": "stderr",
     "output_type": "stream",
     "text": [
      "/Users/antiamoeba/anaconda3/lib/python3.4/site-packages/IPython/kernel/__main__.py:25: VisibleDeprecationWarning: using a non-integer number instead of an integer will result in an error in the future\n"
     ]
    }
   ],
   "source": [
    "beyonce = predict(\"test/beyonce-partition.wav\", pca, clf, categories, scaler)\n",
    "print(beyonce)"
   ]
  },
  {
   "cell_type": "code",
   "execution_count": 348,
   "metadata": {
    "collapsed": false
   },
   "outputs": [
    {
     "name": "stdout",
     "output_type": "stream",
     "text": [
      "[2 2 1 0 0 2 1 0 1 1 0 1 1 2 2 0 1 1 1 0 0 0 1 0 0 0 0 1 1 0 1 1 0 0 0 2 0\n",
      " 0 0 2 2 2 1 1 1 0 2 0 2 0 0 0 0 1 1 1 0 0 1 1 0 0 0 0 0 1 2 1 2 0 2 0 0 2\n",
      " 2 0 2 2 2 2 2 2 2 0 1 0 0 1 1 1 1 1 0 1 1 2 0 0 0 1 0 0 0 0 0 2 0 2 2 2 0\n",
      " 0 0 0 0 0 0 0 1 1 0 0 2 2 2 0 1 1 0 0 2 2 2 0 0 0 0 0 0 2 0 0 2 2 1 0 2 0\n",
      " 0 0 0 0 0 2 0 1 1 1 1 2 0 0 0 0 0 0 0 0 0 2 0 1 0 2 0 0 0 0 0 0 0 0 0 1 2\n",
      " 2 1 0 2 0 0 0 0 1 0 0 0 0 2 2]\n",
      "defaultdict(<class 'int'>, {'Drake': 46, 'Coldplay': 47, 'Beyonce': 107})\n"
     ]
    },
    {
     "name": "stderr",
     "output_type": "stream",
     "text": [
      "/Users/antiamoeba/anaconda3/lib/python3.4/site-packages/IPython/kernel/__main__.py:25: VisibleDeprecationWarning: using a non-integer number instead of an integer will result in an error in the future\n"
     ]
    }
   ],
   "source": [
    "coldplay = predict(\"test/coldplay-yellow.wav\", pca, clf, categories, scaler)\n",
    "print(coldplay)"
   ]
  },
  {
   "cell_type": "markdown",
   "metadata": {
    "collapsed": true
   },
   "source": [
    "# Voice password"
   ]
  },
  {
   "cell_type": "code",
   "execution_count": 239,
   "metadata": {
    "collapsed": true
   },
   "outputs": [],
   "source": [
    "from subprocess import call"
   ]
  },
  {
   "cell_type": "code",
   "execution_count": 256,
   "metadata": {
    "collapsed": false
   },
   "outputs": [],
   "source": [
    "directory = \"testingdata\"\n",
    "output_dir = \"speech\"\n",
    "for filename in os.listdir(directory)[:500]:\n",
    "    if filename.endswith(\".mp3\"):\n",
    "        path = os.path.join(directory, filename)\n",
    "        output_path = os.path.join(output_dir, filename[:-4] + \".wav\")\n",
    "        call([\"mpg123\",\"-w\",output_path,path])"
   ]
  },
  {
   "cell_type": "code",
   "execution_count": 257,
   "metadata": {
    "collapsed": false
   },
   "outputs": [
    {
     "name": "stderr",
     "output_type": "stream",
     "text": [
      "/Users/antiamoeba/anaconda3/lib/python3.4/site-packages/IPython/kernel/__main__.py:25: VisibleDeprecationWarning: using a non-integer number instead of an integer will result in an error in the future\n"
     ]
    }
   ],
   "source": [
    "directory = \"speech\"\n",
    "speech_data = []\n",
    "speech_labels = []\n",
    "for filename in os.listdir(directory)[:500]:\n",
    "    if filename.endswith(\".wav\"):\n",
    "        path = os.path.join(directory, filename)\n",
    "        song = processSong(path, generic=filename)\n",
    "        for point in song:\n",
    "            speech_data.append(point)\n",
    "            speech_labels.append(0)\n",
    "me = \"me\"\n",
    "for filename in os.listdir(me):\n",
    "    if filename.endswith(\".wav\"):\n",
    "        path = os.path.join(me, filename)\n",
    "        song = processSong(path, generic=filename, limit=False)\n",
    "        for point in song:\n",
    "            speech_data.append(point)\n",
    "            speech_labels.append(1)\n",
    "speech_data = np.array(speech_data)\n",
    "speech_labels = np.array(speech_labels)"
   ]
  },
  {
   "cell_type": "code",
   "execution_count": 258,
   "metadata": {
    "collapsed": true
   },
   "outputs": [],
   "source": [
    "speech_data = preprocessing.normalize(speech_data)\n",
    "speech_pca = PCA(n_components=200)\n",
    "speech_pca.fit(speech_data)\n",
    "speech_data = speech_pca.transform(speech_data)"
   ]
  },
  {
   "cell_type": "code",
   "execution_count": 259,
   "metadata": {
    "collapsed": false
   },
   "outputs": [
    {
     "name": "stderr",
     "output_type": "stream",
     "text": [
      "/Users/antiamoeba/anaconda3/lib/python3.4/site-packages/IPython/kernel/__main__.py:7: VisibleDeprecationWarning: using a non-integer number instead of an integer will result in an error in the future\n",
      "/Users/antiamoeba/anaconda3/lib/python3.4/site-packages/IPython/kernel/__main__.py:8: VisibleDeprecationWarning: using a non-integer number instead of an integer will result in an error in the future\n",
      "/Users/antiamoeba/anaconda3/lib/python3.4/site-packages/IPython/kernel/__main__.py:10: VisibleDeprecationWarning: using a non-integer number instead of an integer will result in an error in the future\n",
      "/Users/antiamoeba/anaconda3/lib/python3.4/site-packages/IPython/kernel/__main__.py:11: VisibleDeprecationWarning: using a non-integer number instead of an integer will result in an error in the future\n"
     ]
    }
   ],
   "source": [
    "speech_random = np.arange(len(speech_data))\n",
    "np.random.shuffle(speech_random)\n",
    "speech_training_data = speech_data[speech_random]\n",
    "speech_training_labels = speech_labels[speech_random]\n",
    "\n",
    "speech_flip = 0.8 * len(speech_training_data)\n",
    "speech_validation_data = speech_training_data[speech_flip:]\n",
    "speech_validation_labels = speech_training_labels[speech_flip:]\n",
    "\n",
    "speech_training_data = speech_training_data[:speech_flip]\n",
    "speech_training_labels = speech_training_labels[:speech_flip]"
   ]
  },
  {
   "cell_type": "code",
   "execution_count": 260,
   "metadata": {
    "collapsed": false
   },
   "outputs": [
    {
     "data": {
      "text/plain": [
       "MLPClassifier(activation='relu', alpha=0.001, batch_size='auto', beta_1=0.9,\n",
       "       beta_2=0.999, early_stopping=False, epsilon=1e-08,\n",
       "       hidden_layer_sizes=(400, 200), learning_rate='constant',\n",
       "       learning_rate_init=0.001, max_iter=200, momentum=0.9,\n",
       "       nesterovs_momentum=True, power_t=0.5, random_state=None,\n",
       "       shuffle=True, solver='adam', tol=0.0001, validation_fraction=0.1,\n",
       "       verbose=False, warm_start=False)"
      ]
     },
     "execution_count": 260,
     "metadata": {},
     "output_type": "execute_result"
    }
   ],
   "source": [
    "speech_clf = MLPClassifier(hidden_layer_sizes=(400,200), alpha=0.001)\n",
    "speech_clf.fit(speech_training_data, speech_training_labels)"
   ]
  },
  {
   "cell_type": "code",
   "execution_count": 261,
   "metadata": {
    "collapsed": false
   },
   "outputs": [
    {
     "name": "stdout",
     "output_type": "stream",
     "text": [
      "1.0\n"
     ]
    }
   ],
   "source": [
    "speech_predicted_labels = speech_clf.predict(speech_validation_data)\n",
    "correct = 0\n",
    "for real, predicted in zip(speech_validation_labels, speech_predicted_labels):\n",
    "    if np.array_equal(real, predicted):\n",
    "        correct += 1\n",
    "print(correct/len(speech_predicted_labels))"
   ]
  },
  {
   "cell_type": "code",
   "execution_count": 349,
   "metadata": {
    "collapsed": false
   },
   "outputs": [
    {
     "ename": "TypeError",
     "evalue": "predict() missing 1 required positional argument: 'scaler'",
     "output_type": "error",
     "traceback": [
      "\u001b[0;31m---------------------------------------------------------------------------\u001b[0m",
      "\u001b[0;31mTypeError\u001b[0m                                 Traceback (most recent call last)",
      "\u001b[0;32m<ipython-input-349-31e8ed217738>\u001b[0m in \u001b[0;36m<module>\u001b[0;34m()\u001b[0m\n\u001b[1;32m      1\u001b[0m \u001b[0mspeech_cats\u001b[0m \u001b[0;34m=\u001b[0m \u001b[0;34m[\u001b[0m\u001b[0;34m\"not Dorian\"\u001b[0m\u001b[0;34m,\u001b[0m \u001b[0;34m\"Dorian\"\u001b[0m\u001b[0;34m]\u001b[0m\u001b[0;34m\u001b[0m\u001b[0m\n\u001b[0;32m----> 2\u001b[0;31m \u001b[0mpredict\u001b[0m\u001b[0;34m(\u001b[0m\u001b[0;34m\"test/dorian.wav\"\u001b[0m\u001b[0;34m,\u001b[0m \u001b[0mspeech_pca\u001b[0m\u001b[0;34m,\u001b[0m \u001b[0mspeech_clf\u001b[0m\u001b[0;34m,\u001b[0m \u001b[0mspeech_cats\u001b[0m\u001b[0;34m,\u001b[0m \u001b[0mlimit\u001b[0m\u001b[0;34m=\u001b[0m\u001b[0;32mFalse\u001b[0m\u001b[0;34m)\u001b[0m\u001b[0;34m\u001b[0m\u001b[0m\n\u001b[0m",
      "\u001b[0;31mTypeError\u001b[0m: predict() missing 1 required positional argument: 'scaler'"
     ]
    }
   ],
   "source": [
    "speech_cats = [\"not Dorian\", \"Dorian\"]\n",
    "predict(\"test/dorian.wav\", speech_pca, speech_clf, speech_cats, limit=False)"
   ]
  },
  {
   "cell_type": "code",
   "execution_count": null,
   "metadata": {
    "collapsed": true
   },
   "outputs": [],
   "source": []
  }
 ],
 "metadata": {
  "kernelspec": {
   "display_name": "Python 3",
   "language": "python",
   "name": "python3"
  },
  "language_info": {
   "codemirror_mode": {
    "name": "ipython",
    "version": 3
   },
   "file_extension": ".py",
   "mimetype": "text/x-python",
   "name": "python",
   "nbconvert_exporter": "python",
   "pygments_lexer": "ipython3",
   "version": "3.4.5"
  }
 },
 "nbformat": 4,
 "nbformat_minor": 0
}
