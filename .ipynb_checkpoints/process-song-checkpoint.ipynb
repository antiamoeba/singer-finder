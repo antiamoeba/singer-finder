{
 "cells": [
  {
   "cell_type": "code",
   "execution_count": 29,
   "metadata": {
    "collapsed": true
   },
   "outputs": [],
   "source": [
    "%matplotlib inline\n",
    "from scipy.io import wavfile\n",
    "from scipy import signal\n",
    "import os\n",
    "import numpy as np\n",
    "import matplotlib.pyplot as plt"
   ]
  },
  {
   "cell_type": "code",
   "execution_count": 370,
   "metadata": {
    "collapsed": false
   },
   "outputs": [],
   "source": [
    "def processSong(path, generic):\n",
    "    fs, data = wavfile.read(path)\n",
    "    window = 2**18\n",
    "    sig = data[:,0]\n",
    "    window = min(window, len(sig))\n",
    "    \n",
    "    f, t, signal_freq = signal.spectrogram(sig, fs=fs, nperseg=window, nfft=window)\n",
    "    print(signal_freq.shape)\n",
    "    output = []\n",
    "    # Filtering\n",
    "    for i in range(signal_freq.shape[1]):\n",
    "        signal_chunk_freq = voiceFilter(signal_freq[:,i], fs, window)/window\n",
    "        if np.max(signal_chunk_freq) < 5:\n",
    "            continue\n",
    "        ## voice frequencies are active in this segment\n",
    "        output.append(signal_chunk_freq)\n",
    "    output = np.array(output)\n",
    "    np.save(\"mats/generic\", output)\n",
    "def voiceFilter(signal_freq, fs, window, minimum=85, maximum=3000):\n",
    "    min_bin = np.round(freqToBin(minimum, fs, window))\n",
    "    max_bin = np.round(freqToBin(maximum, fs, window))\n",
    "    return signal_freq[min_bin:max_bin]\n",
    "def binToFreq(bin_num, fs, window):\n",
    "    return fs/window * bin_num\n",
    "def freqToBin(freq, fs, window):\n",
    "    return freq / (fs/window)"
   ]
  },
  {
   "cell_type": "code",
   "execution_count": 372,
   "metadata": {
    "collapsed": false
   },
   "outputs": [
    {
     "name": "stdout",
     "output_type": "stream",
     "text": [
      "(131073, 42)\n"
     ]
    }
   ],
   "source": [
    "directory = \"songs\"\n",
    "for filename in os.listdir(directory):\n",
    "    if filename.endswith(\".wav\"):\n",
    "        path = os.path.join(directory, filename)\n",
    "        processSong(path, filename, filename)"
   ]
  },
  {
   "cell_type": "code",
   "execution_count": null,
   "metadata": {
    "collapsed": true
   },
   "outputs": [],
   "source": []
  }
 ],
 "metadata": {
  "kernelspec": {
   "display_name": "Python 3",
   "language": "python",
   "name": "python3"
  },
  "language_info": {
   "codemirror_mode": {
    "name": "ipython",
    "version": 3
   },
   "file_extension": ".py",
   "mimetype": "text/x-python",
   "name": "python",
   "nbconvert_exporter": "python",
   "pygments_lexer": "ipython3",
   "version": "3.4.5"
  }
 },
 "nbformat": 4,
 "nbformat_minor": 0
}
